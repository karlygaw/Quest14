{
  "cells": [
    {
      "cell_type": "markdown",
      "metadata": {
        "id": "gnEVIVV0nABk"
      },
      "source": [
        "# Упражнения по NumPy\n",
        "\n",
        "Давайте проверим Ваши знания NumPy. Мы начнём с достаточно простых задач, и плавно перейдём к более сложным.\n",
        "\n",
        "<div class=\"alert alert-danger\" style=\"margin: 10px\"><strong>ВАЖНОЕ ЗАМЕЧАНИЕ!</strong> Пожалуйста не запускайте ячейки, которые располагаются <br> непосредственно над ожидаемым результатом, иначе Вы удалите этот ожидаемый результат!</div>"
      ]
    },
    {
      "cell_type": "markdown",
      "metadata": {
        "id": "T8E-CUmpnABk"
      },
      "source": [
        "#### 1. Импортируйте NumPy as np"
      ]
    },
    {
      "cell_type": "code",
      "execution_count": 1,
      "metadata": {
        "collapsed": true,
        "id": "-KhRpO2hnABl"
      },
      "outputs": [],
      "source": [
        "import numpy as np"
      ]
    },
    {
      "cell_type": "markdown",
      "metadata": {
        "id": "eS7343rznABl"
      },
      "source": [
        "#### 2. Создайте массив из 10 нулей"
      ]
    },
    {
      "cell_type": "code",
      "execution_count": 3,
      "metadata": {
        "collapsed": true,
        "id": "hECY56MunABl"
      },
      "outputs": [
        {
          "data": {
            "text/plain": [
              "array([0., 0., 0., 0., 0., 0., 0., 0., 0., 0.])"
            ]
          },
          "execution_count": 3,
          "metadata": {},
          "output_type": "execute_result"
        }
      ],
      "source": [
        "# Напишите Ваше решение в этой ячейке\n",
        "arr = np.zeros(10)\n",
        "arr"
      ]
    },
    {
      "cell_type": "code",
      "execution_count": null,
      "metadata": {
        "id": "34ttdGXlnABm",
        "outputId": "15ed892f-9703-44dc-8aae-228d1267f509"
      },
      "outputs": [
        {
          "data": {
            "text/plain": [
              "array([0., 0., 0., 0., 0., 0., 0., 0., 0., 0.])"
            ]
          },
          "execution_count": 2,
          "metadata": {},
          "output_type": "execute_result"
        }
      ],
      "source": [
        "# НЕ ПИШИТЕ В ЭТОЙ ЯЧЕЙКЕ\n"
      ]
    },
    {
      "cell_type": "markdown",
      "metadata": {
        "id": "TB73wkTInABn"
      },
      "source": [
        "#### 3. Создайте массив из 10 единиц"
      ]
    },
    {
      "cell_type": "code",
      "execution_count": 5,
      "metadata": {
        "collapsed": true,
        "id": "mOcI2wFDnABn"
      },
      "outputs": [
        {
          "data": {
            "text/plain": [
              "array([1., 1., 1., 1., 1., 1., 1., 1., 1., 1.])"
            ]
          },
          "execution_count": 5,
          "metadata": {},
          "output_type": "execute_result"
        }
      ],
      "source": [
        "# Напишите Ваше решение в этой ячейке\n",
        "arr = np.ones(10)\n",
        "arr"
      ]
    },
    {
      "cell_type": "code",
      "execution_count": null,
      "metadata": {
        "id": "gYTS2ncEnABo",
        "outputId": "8ff62bea-44ff-4535-8535-04b8e2ed426c"
      },
      "outputs": [
        {
          "data": {
            "text/plain": [
              "array([1., 1., 1., 1., 1., 1., 1., 1., 1., 1.])"
            ]
          },
          "execution_count": 3,
          "metadata": {},
          "output_type": "execute_result"
        }
      ],
      "source": [
        "# НЕ ПИШИТЕ В ЭТОЙ ЯЧЕЙКЕ\n"
      ]
    },
    {
      "cell_type": "markdown",
      "metadata": {
        "id": "GEIZBwFOnABo"
      },
      "source": [
        "#### 4. Создайте массив из 10 пятёрок"
      ]
    },
    {
      "cell_type": "code",
      "execution_count": 6,
      "metadata": {
        "collapsed": true,
        "id": "rkfyDuHznABo"
      },
      "outputs": [
        {
          "data": {
            "text/plain": [
              "array([5, 5, 5, 5, 5, 5, 5, 5, 5, 5])"
            ]
          },
          "execution_count": 6,
          "metadata": {},
          "output_type": "execute_result"
        }
      ],
      "source": [
        "# Напишите Ваше решение в этой ячейке\n",
        "arr = np.full(10, 5)\n",
        "arr"
      ]
    },
    {
      "cell_type": "code",
      "execution_count": null,
      "metadata": {
        "id": "9LyQRVjsnABp",
        "outputId": "a23e7cb1-bc2d-4107-d6eb-f7c80664b13d"
      },
      "outputs": [
        {
          "data": {
            "text/plain": [
              "array([5., 5., 5., 5., 5., 5., 5., 5., 5., 5.])"
            ]
          },
          "execution_count": 4,
          "metadata": {},
          "output_type": "execute_result"
        }
      ],
      "source": [
        "# НЕ ПИШИТЕ В ЭТОЙ ЯЧЕЙКЕ\n"
      ]
    },
    {
      "cell_type": "markdown",
      "metadata": {
        "id": "xzZGtQtsnABp"
      },
      "source": [
        "#### 5. Создайте массив целых чисел от 10 до 50 включительно"
      ]
    },
    {
      "cell_type": "code",
      "execution_count": 8,
      "metadata": {
        "collapsed": true,
        "id": "RxlcqIC9nABp"
      },
      "outputs": [
        {
          "data": {
            "text/plain": [
              "array([10, 11, 12, 13, 14, 15, 16, 17, 18, 19, 20, 21, 22, 23, 24, 25, 26,\n",
              "       27, 28, 29, 30, 31, 32, 33, 34, 35, 36, 37, 38, 39, 40, 41, 42, 43,\n",
              "       44, 45, 46, 47, 48, 49, 50])"
            ]
          },
          "execution_count": 8,
          "metadata": {},
          "output_type": "execute_result"
        }
      ],
      "source": [
        "# Напишите Ваше решение в этой ячейке\n",
        "arr = np.arange(10, 51)\n",
        "arr"
      ]
    },
    {
      "cell_type": "code",
      "execution_count": null,
      "metadata": {
        "id": "dc3DRAvCnABp",
        "outputId": "c045e0f2-e1a2-411d-c15c-1595835d220c"
      },
      "outputs": [
        {
          "data": {
            "text/plain": [
              "array([10, 11, 12, 13, 14, 15, 16, 17, 18, 19, 20, 21, 22, 23, 24, 25, 26,\n",
              "       27, 28, 29, 30, 31, 32, 33, 34, 35, 36, 37, 38, 39, 40, 41, 42, 43,\n",
              "       44, 45, 46, 47, 48, 49, 50])"
            ]
          },
          "execution_count": 5,
          "metadata": {},
          "output_type": "execute_result"
        }
      ],
      "source": [
        "# НЕ ПИШИТЕ В ЭТОЙ ЯЧЕЙКЕ\n"
      ]
    },
    {
      "cell_type": "markdown",
      "metadata": {
        "id": "Rz1P6bAcnABq"
      },
      "source": [
        "#### 6. Создайте массив всех чётных чисел от 10 до 50 включительно"
      ]
    },
    {
      "cell_type": "code",
      "execution_count": 9,
      "metadata": {
        "collapsed": true,
        "id": "J5HW16lznABq"
      },
      "outputs": [
        {
          "data": {
            "text/plain": [
              "array([10, 12, 14, 16, 18, 20, 22, 24, 26, 28, 30, 32, 34, 36, 38, 40, 42,\n",
              "       44, 46, 48, 50])"
            ]
          },
          "execution_count": 9,
          "metadata": {},
          "output_type": "execute_result"
        }
      ],
      "source": [
        "# Напишите Ваше решение в этой ячейке\n",
        "arr = np.arange(10, 51, 2)\n",
        "arr"
      ]
    },
    {
      "cell_type": "code",
      "execution_count": null,
      "metadata": {
        "id": "2jr7Q_z-nABq",
        "outputId": "560df484-0b9f-4edd-d7d1-30a996bb457b"
      },
      "outputs": [
        {
          "data": {
            "text/plain": [
              "array([10, 12, 14, 16, 18, 20, 22, 24, 26, 28, 30, 32, 34, 36, 38, 40, 42,\n",
              "       44, 46, 48, 50])"
            ]
          },
          "execution_count": 6,
          "metadata": {},
          "output_type": "execute_result"
        }
      ],
      "source": [
        "# НЕ ПИШИТЕ В ЭТОЙ ЯЧЕЙКЕ\n"
      ]
    },
    {
      "cell_type": "markdown",
      "metadata": {
        "id": "x-phlPNnnABq"
      },
      "source": [
        "#### 7. Создайте матрицу 3x3 со значениями от 0 до 8 включительно"
      ]
    },
    {
      "cell_type": "code",
      "execution_count": 10,
      "metadata": {
        "collapsed": true,
        "id": "OU-sBlSInABr"
      },
      "outputs": [
        {
          "data": {
            "text/plain": [
              "array([[0, 1, 2],\n",
              "       [3, 4, 5],\n",
              "       [6, 7, 8]])"
            ]
          },
          "execution_count": 10,
          "metadata": {},
          "output_type": "execute_result"
        }
      ],
      "source": [
        "# Напишите Ваше решение в этой ячейке\n",
        "matrix = np.arange(9).reshape(3, 3)\n",
        "matrix"
      ]
    },
    {
      "cell_type": "code",
      "execution_count": null,
      "metadata": {
        "id": "G4fi3b5ZnABr",
        "outputId": "f15a4e3d-8c54-4e47-9f14-f07f6d9d4ee7"
      },
      "outputs": [
        {
          "data": {
            "text/plain": [
              "array([[0, 1, 2],\n",
              "       [3, 4, 5],\n",
              "       [6, 7, 8]])"
            ]
          },
          "execution_count": 7,
          "metadata": {},
          "output_type": "execute_result"
        }
      ],
      "source": [
        "# НЕ ПИШИТЕ В ЭТОЙ ЯЧЕЙКЕ\n"
      ]
    },
    {
      "cell_type": "markdown",
      "metadata": {
        "id": "Kw2Ap_N5nABr"
      },
      "source": [
        "#### 8. Создайте единичную матрицу размером 3x3"
      ]
    },
    {
      "cell_type": "code",
      "execution_count": 12,
      "metadata": {
        "collapsed": true,
        "id": "vzHthL-SnABr"
      },
      "outputs": [
        {
          "data": {
            "text/plain": [
              "array([[1., 0., 0.],\n",
              "       [0., 1., 0.],\n",
              "       [0., 0., 1.]])"
            ]
          },
          "execution_count": 12,
          "metadata": {},
          "output_type": "execute_result"
        }
      ],
      "source": [
        "# Напишите Ваше решение в этой ячейке\n",
        "identity_matrix = np.eye(3)\n",
        "identity_matrix"
      ]
    },
    {
      "cell_type": "code",
      "execution_count": null,
      "metadata": {
        "id": "qKWCKd6anABr",
        "outputId": "8c906037-0bd3-4e86-c99f-4dbe13e11d8c"
      },
      "outputs": [
        {
          "data": {
            "text/plain": [
              "array([[1., 0., 0.],\n",
              "       [0., 1., 0.],\n",
              "       [0., 0., 1.]])"
            ]
          },
          "execution_count": 8,
          "metadata": {},
          "output_type": "execute_result"
        }
      ],
      "source": [
        "# НЕ ПИШИТЕ В ЭТОЙ ЯЧЕЙКЕ\n"
      ]
    },
    {
      "cell_type": "markdown",
      "metadata": {
        "id": "10tNingSnABs"
      },
      "source": [
        "#### 9. С помощью NumPy сгенерируйте случайное число в диапазоне от 0 до 1<br><br>&emsp;Замечание: Ваш результат может отличаться от того, что указано в качестве примера ниже."
      ]
    },
    {
      "cell_type": "code",
      "execution_count": 28,
      "metadata": {
        "collapsed": true,
        "id": "BFuFb3u_nABs"
      },
      "outputs": [
        {
          "data": {
            "text/plain": [
              "array([0.15599452])"
            ]
          },
          "execution_count": 28,
          "metadata": {},
          "output_type": "execute_result"
        }
      ],
      "source": [
        "# Напишите Ваше решение в этой ячейке\n",
        "random_number = np.random.rand(1)\n",
        "random_array = np.array(random_number)\n",
        "random_array"
      ]
    },
    {
      "cell_type": "code",
      "execution_count": 21,
      "metadata": {
        "id": "ptJgA6ednABs",
        "outputId": "5688ead4-57a9-4925-801b-6e05573c55ea"
      },
      "outputs": [
        {
          "data": {
            "text/plain": [
              "array([0.49658765])"
            ]
          },
          "execution_count": 21,
          "metadata": {},
          "output_type": "execute_result"
        }
      ],
      "source": [
        "# НЕ ПИШИТЕ В ЭТОЙ ЯЧЕЙКЕ\n"
      ]
    },
    {
      "cell_type": "markdown",
      "metadata": {
        "id": "o2erdMFrnABs"
      },
      "source": [
        "#### 10. С помощью NumPy сгенерируйте массив из 25 случайных чисел, выбранных из стандартного нормального распределения<br><br>&emsp;&ensp;Замечание: Ваш результат может отличаться от того, что указано в качестве примера ниже."
      ]
    },
    {
      "cell_type": "code",
      "execution_count": 23,
      "metadata": {
        "collapsed": true,
        "id": "JgC8EUHmnABs"
      },
      "outputs": [
        {
          "data": {
            "text/plain": [
              "array([-0.53965823,  0.00568342,  0.67344703,  0.55741778,  0.39326975,\n",
              "       -0.1581775 ,  0.11749056, -0.97049981, -0.40931506,  3.69775775,\n",
              "        0.67156249,  2.60896888,  2.56687826,  0.90648325, -0.56532339,\n",
              "       -0.56606907,  0.77027727, -1.06467947,  0.35127394, -0.324184  ,\n",
              "       -0.55453465,  1.62363058,  2.03269637, -0.85337084,  0.75590694])"
            ]
          },
          "execution_count": 23,
          "metadata": {},
          "output_type": "execute_result"
        }
      ],
      "source": [
        "# Напишите Ваше решение в этой ячейке\n",
        "random_array = np.random.randn(25) #среднее = 0, стандартное отклонение = 1\n",
        "random_array"
      ]
    },
    {
      "cell_type": "code",
      "execution_count": null,
      "metadata": {
        "id": "N1i75g2nnABs",
        "outputId": "d4144bba-5f6c-464c-ba4c-418387ec1fa3"
      },
      "outputs": [
        {
          "data": {
            "text/plain": [
              "array([ 1.80076712, -1.12375847, -0.98524305,  0.11673573,  1.96346762,\n",
              "        1.81378592, -0.33790771,  0.85012656,  0.0100703 , -0.91005957,\n",
              "        0.29064366,  0.69906357,  0.1774377 , -0.61958694, -0.45498611,\n",
              "       -2.0804685 , -0.06778549,  1.06403819,  0.4311884 , -1.09853837,\n",
              "        1.11980469, -0.48751963,  1.32517611, -0.61775122, -0.00622865])"
            ]
          },
          "execution_count": 10,
          "metadata": {},
          "output_type": "execute_result"
        }
      ],
      "source": [
        "# НЕ ПИШИТЕ В ЭТОЙ ЯЧЕЙКЕ\n"
      ]
    },
    {
      "cell_type": "markdown",
      "metadata": {
        "id": "0SeBj6ipnABt"
      },
      "source": [
        "#### 11. Создайте указанную ниже матрицу:"
      ]
    },
    {
      "cell_type": "code",
      "execution_count": 32,
      "metadata": {
        "collapsed": true,
        "id": "Lfq0g16wnABt"
      },
      "outputs": [
        {
          "data": {
            "text/plain": [
              "array([[0.01, 0.02, 0.03, 0.04, 0.05, 0.06, 0.07, 0.08, 0.09, 0.1 ],\n",
              "       [0.11, 0.12, 0.13, 0.14, 0.15, 0.16, 0.17, 0.18, 0.19, 0.2 ],\n",
              "       [0.21, 0.22, 0.23, 0.24, 0.25, 0.26, 0.27, 0.28, 0.29, 0.3 ],\n",
              "       [0.31, 0.32, 0.33, 0.34, 0.35, 0.36, 0.37, 0.38, 0.39, 0.4 ],\n",
              "       [0.41, 0.42, 0.43, 0.44, 0.45, 0.46, 0.47, 0.48, 0.49, 0.5 ],\n",
              "       [0.51, 0.52, 0.53, 0.54, 0.55, 0.56, 0.57, 0.58, 0.59, 0.6 ],\n",
              "       [0.61, 0.62, 0.63, 0.64, 0.65, 0.66, 0.67, 0.68, 0.69, 0.7 ],\n",
              "       [0.71, 0.72, 0.73, 0.74, 0.75, 0.76, 0.77, 0.78, 0.79, 0.8 ],\n",
              "       [0.81, 0.82, 0.83, 0.84, 0.85, 0.86, 0.87, 0.88, 0.89, 0.9 ],\n",
              "       [0.91, 0.92, 0.93, 0.94, 0.95, 0.96, 0.97, 0.98, 0.99, 1.  ]])"
            ]
          },
          "execution_count": 32,
          "metadata": {},
          "output_type": "execute_result"
        }
      ],
      "source": [
        "# Напишите Ваше решение в этой ячейке\n",
        "arr = np.arange(0.01, 1.01, 0.01).reshape(10, 10)\n",
        "arr"
      ]
    },
    {
      "cell_type": "code",
      "execution_count": null,
      "metadata": {
        "id": "9kRrzKePnABt",
        "outputId": "f17cc1e1-9398-4a95-b1e9-5d48665bf7eb"
      },
      "outputs": [
        {
          "data": {
            "text/plain": [
              "array([[0.01, 0.02, 0.03, 0.04, 0.05, 0.06, 0.07, 0.08, 0.09, 0.1 ],\n",
              "       [0.11, 0.12, 0.13, 0.14, 0.15, 0.16, 0.17, 0.18, 0.19, 0.2 ],\n",
              "       [0.21, 0.22, 0.23, 0.24, 0.25, 0.26, 0.27, 0.28, 0.29, 0.3 ],\n",
              "       [0.31, 0.32, 0.33, 0.34, 0.35, 0.36, 0.37, 0.38, 0.39, 0.4 ],\n",
              "       [0.41, 0.42, 0.43, 0.44, 0.45, 0.46, 0.47, 0.48, 0.49, 0.5 ],\n",
              "       [0.51, 0.52, 0.53, 0.54, 0.55, 0.56, 0.57, 0.58, 0.59, 0.6 ],\n",
              "       [0.61, 0.62, 0.63, 0.64, 0.65, 0.66, 0.67, 0.68, 0.69, 0.7 ],\n",
              "       [0.71, 0.72, 0.73, 0.74, 0.75, 0.76, 0.77, 0.78, 0.79, 0.8 ],\n",
              "       [0.81, 0.82, 0.83, 0.84, 0.85, 0.86, 0.87, 0.88, 0.89, 0.9 ],\n",
              "       [0.91, 0.92, 0.93, 0.94, 0.95, 0.96, 0.97, 0.98, 0.99, 1.  ]])"
            ]
          },
          "execution_count": 11,
          "metadata": {},
          "output_type": "execute_result"
        }
      ],
      "source": [
        "# НЕ ПИШИТЕ В ЭТОЙ ЯЧЕЙКЕ\n"
      ]
    },
    {
      "cell_type": "markdown",
      "metadata": {
        "id": "9GtutuDPnABt"
      },
      "source": [
        "#### 12. Создайте массив из 20 равноудалённых друг от друга точек между 0 и 1:"
      ]
    },
    {
      "cell_type": "code",
      "execution_count": 34,
      "metadata": {
        "collapsed": true,
        "id": "AtWQPLrCnABt"
      },
      "outputs": [
        {
          "data": {
            "text/plain": [
              "array([0.        , 0.05263158, 0.10526316, 0.15789474, 0.21052632,\n",
              "       0.26315789, 0.31578947, 0.36842105, 0.42105263, 0.47368421,\n",
              "       0.52631579, 0.57894737, 0.63157895, 0.68421053, 0.73684211,\n",
              "       0.78947368, 0.84210526, 0.89473684, 0.94736842, 1.        ])"
            ]
          },
          "execution_count": 34,
          "metadata": {},
          "output_type": "execute_result"
        }
      ],
      "source": [
        "# Напишите Ваше решение в этой ячейке\n",
        "arr = np.linspace(0, 1, 20)\n",
        "arr"
      ]
    },
    {
      "cell_type": "code",
      "execution_count": null,
      "metadata": {
        "id": "bcbkKUhXnABu",
        "outputId": "9ff91ca2-b589-4986-956b-1f7d3008c3fc"
      },
      "outputs": [
        {
          "data": {
            "text/plain": [
              "array([0.        , 0.05263158, 0.10526316, 0.15789474, 0.21052632,\n",
              "       0.26315789, 0.31578947, 0.36842105, 0.42105263, 0.47368421,\n",
              "       0.52631579, 0.57894737, 0.63157895, 0.68421053, 0.73684211,\n",
              "       0.78947368, 0.84210526, 0.89473684, 0.94736842, 1.        ])"
            ]
          },
          "execution_count": 12,
          "metadata": {},
          "output_type": "execute_result"
        }
      ],
      "source": [
        "# НЕ ПИШИТЕ В ЭТОЙ ЯЧЕЙКЕ\n"
      ]
    },
    {
      "cell_type": "markdown",
      "metadata": {
        "id": "a7ks9NvznABu"
      },
      "source": [
        "## Индексация Numpy\n",
        "\n",
        "Здесь Вы будете работать с некоторой матрицей - чтобы создать её, запустите следующую ячейку! После этого мы попросим Вас воспроизвести несколько результатов работы с этой матрицей:"
      ]
    },
    {
      "cell_type": "code",
      "execution_count": 35,
      "metadata": {
        "id": "yjSQVaLlnABu",
        "outputId": "a760ab50-0deb-40fe-cc84-8f4d957cc682"
      },
      "outputs": [
        {
          "data": {
            "text/plain": [
              "array([[ 1,  2,  3,  4,  5],\n",
              "       [ 6,  7,  8,  9, 10],\n",
              "       [11, 12, 13, 14, 15],\n",
              "       [16, 17, 18, 19, 20],\n",
              "       [21, 22, 23, 24, 25]])"
            ]
          },
          "execution_count": 35,
          "metadata": {},
          "output_type": "execute_result"
        }
      ],
      "source": [
        "# ЗАПУСТИТЕ ЭТУ ЯЧЕЙКУ - ЭТО СОЗДАНИЕ МАТРИЦЫ ДЛЯ СЛЕДУЮЩИХ ЗАДАНИЙ\n",
        "mat = np.arange(1,26).reshape(5,5)\n",
        "mat"
      ]
    },
    {
      "cell_type": "markdown",
      "metadata": {
        "id": "ZH5StusvnABu"
      },
      "source": [
        "#### 13. Напишите код, который на основе матрицы mat выведет указанную ниже матрицу (подсказка - используйте индексацию)."
      ]
    },
    {
      "cell_type": "code",
      "execution_count": 36,
      "metadata": {
        "collapsed": true,
        "id": "j6owCCMhnABu"
      },
      "outputs": [
        {
          "data": {
            "text/plain": [
              "array([[12, 13, 14, 15],\n",
              "       [17, 18, 19, 20],\n",
              "       [22, 23, 24, 25]])"
            ]
          },
          "execution_count": 36,
          "metadata": {},
          "output_type": "execute_result"
        }
      ],
      "source": [
        "# Напишите Ваше решение в этой ячейке\n",
        "mat[2::, 1:]"
      ]
    },
    {
      "cell_type": "code",
      "execution_count": null,
      "metadata": {
        "id": "3cDrrOzunABv",
        "outputId": "0b65264b-7b10-4832-859e-68e27322022e"
      },
      "outputs": [
        {
          "data": {
            "text/plain": [
              "array([[12, 13, 14, 15],\n",
              "       [17, 18, 19, 20],\n",
              "       [22, 23, 24, 25]])"
            ]
          },
          "execution_count": 14,
          "metadata": {},
          "output_type": "execute_result"
        }
      ],
      "source": [
        "# НЕ ПИШИТЕ В ЭТОЙ ЯЧЕЙКЕ\n"
      ]
    },
    {
      "cell_type": "markdown",
      "metadata": {
        "id": "DJ7Yt_NxnABv"
      },
      "source": [
        "#### 14. Напишите код, который на основе матрицы mat выведет указанную ниже матрицу."
      ]
    },
    {
      "cell_type": "code",
      "execution_count": 37,
      "metadata": {
        "collapsed": true,
        "id": "wokbEotinABv"
      },
      "outputs": [
        {
          "data": {
            "text/plain": [
              "20"
            ]
          },
          "execution_count": 37,
          "metadata": {},
          "output_type": "execute_result"
        }
      ],
      "source": [
        "# Напишите Ваше решение в этой ячейке\n",
        "mat[3, -1]"
      ]
    },
    {
      "cell_type": "code",
      "execution_count": null,
      "metadata": {
        "id": "12-8HurLnABv",
        "outputId": "bfeff788-fe17-4a1e-ed96-3ba42bb6d08e"
      },
      "outputs": [
        {
          "data": {
            "text/plain": [
              "20"
            ]
          },
          "execution_count": 15,
          "metadata": {},
          "output_type": "execute_result"
        }
      ],
      "source": [
        "# НЕ ПИШИТЕ В ЭТОЙ ЯЧЕЙКЕ\n"
      ]
    },
    {
      "cell_type": "markdown",
      "metadata": {
        "id": "ifY7D9zRnABv"
      },
      "source": [
        "#### 15. Напишите код, который на основе матрицы mat выведет указанную ниже матрицу."
      ]
    },
    {
      "cell_type": "code",
      "execution_count": 42,
      "metadata": {
        "collapsed": true,
        "id": "5B5gsEOBnABv"
      },
      "outputs": [
        {
          "data": {
            "text/plain": [
              "array([[ 2],\n",
              "       [ 7],\n",
              "       [12]])"
            ]
          },
          "execution_count": 42,
          "metadata": {},
          "output_type": "execute_result"
        }
      ],
      "source": [
        "# Напишите Ваше решение в этой ячейке\n",
        "# mat[:3, 1]\n",
        "mat[:3, 1][:, np.newaxis] # создаем новое измерение в массиве"
      ]
    },
    {
      "cell_type": "code",
      "execution_count": null,
      "metadata": {
        "id": "UUG4N93-nABw",
        "outputId": "e5e0e0b4-faed-4867-9fe0-4630e7199797"
      },
      "outputs": [
        {
          "data": {
            "text/plain": [
              "array([[ 2],\n",
              "       [ 7],\n",
              "       [12]])"
            ]
          },
          "execution_count": 16,
          "metadata": {},
          "output_type": "execute_result"
        }
      ],
      "source": [
        "# НЕ ПИШИТЕ В ЭТОЙ ЯЧЕЙКЕ\n"
      ]
    },
    {
      "cell_type": "markdown",
      "metadata": {
        "id": "EVHb5VxmnABw"
      },
      "source": [
        "#### 16. Напишите код, который на основе матрицы mat выведет указанную ниже матрицу."
      ]
    },
    {
      "cell_type": "code",
      "execution_count": 43,
      "metadata": {
        "collapsed": true,
        "id": "YPWUmDoonABw"
      },
      "outputs": [
        {
          "data": {
            "text/plain": [
              "array([21, 22, 23, 24, 25])"
            ]
          },
          "execution_count": 43,
          "metadata": {},
          "output_type": "execute_result"
        }
      ],
      "source": [
        "# Напишите Ваше решение в этой ячейке\n",
        "mat[-1]"
      ]
    },
    {
      "cell_type": "code",
      "execution_count": null,
      "metadata": {
        "id": "7ysUZAi4nABw",
        "outputId": "22ac2e82-d398-448a-8818-862f80e6d497"
      },
      "outputs": [
        {
          "data": {
            "text/plain": [
              "array([21, 22, 23, 24, 25])"
            ]
          },
          "execution_count": 17,
          "metadata": {},
          "output_type": "execute_result"
        }
      ],
      "source": [
        "# НЕ ПИШИТЕ В ЭТОЙ ЯЧЕЙКЕ\n"
      ]
    },
    {
      "cell_type": "markdown",
      "metadata": {
        "id": "Qm6ngENGnABw"
      },
      "source": [
        "#### 17. Напишите код, который на основе матрицы mat выведет указанную ниже матрицу."
      ]
    },
    {
      "cell_type": "code",
      "execution_count": 48,
      "metadata": {
        "collapsed": true,
        "id": "ek2S1ATrnABw"
      },
      "outputs": [
        {
          "data": {
            "text/plain": [
              "array([[16, 17, 18, 19, 20],\n",
              "       [21, 22, 23, 24, 25]])"
            ]
          },
          "execution_count": 48,
          "metadata": {},
          "output_type": "execute_result"
        }
      ],
      "source": [
        "# Напишите Ваше решение в этой ячейке\n",
        "mat[3::]"
      ]
    },
    {
      "cell_type": "code",
      "execution_count": null,
      "metadata": {
        "id": "TgTHo5iXnABw",
        "outputId": "ca37907b-289f-4e20-ee01-f1d04496b968"
      },
      "outputs": [
        {
          "data": {
            "text/plain": [
              "array([[16, 17, 18, 19, 20],\n",
              "       [21, 22, 23, 24, 25]])"
            ]
          },
          "execution_count": 18,
          "metadata": {},
          "output_type": "execute_result"
        }
      ],
      "source": [
        "# НЕ ПИШИТЕ В ЭТОЙ ЯЧЕЙКЕ\n"
      ]
    },
    {
      "cell_type": "markdown",
      "metadata": {
        "id": "xrvEi80JnABx"
      },
      "source": [
        "## Операции в NumPy"
      ]
    },
    {
      "cell_type": "markdown",
      "metadata": {
        "id": "qGTTIJsfnABx"
      },
      "source": [
        "#### 18. Найдите сумму всех чисел в матрице mat"
      ]
    },
    {
      "cell_type": "code",
      "execution_count": 51,
      "metadata": {
        "collapsed": true,
        "id": "AM2GI7tgnABx"
      },
      "outputs": [
        {
          "data": {
            "text/plain": [
              "325"
            ]
          },
          "execution_count": 51,
          "metadata": {},
          "output_type": "execute_result"
        }
      ],
      "source": [
        "# Напишите Ваше решение в этой ячейке\n",
        "total_sum = np.sum(mat)\n",
        "\n",
        "total_sum"
      ]
    },
    {
      "cell_type": "code",
      "execution_count": null,
      "metadata": {
        "id": "cFGeYszbnABx",
        "outputId": "a1caa855-e383-47b0-92cc-253351f233c1"
      },
      "outputs": [
        {
          "data": {
            "text/plain": [
              "325"
            ]
          },
          "execution_count": 19,
          "metadata": {},
          "output_type": "execute_result"
        }
      ],
      "source": [
        "# НЕ ПИШИТЕ В ЭТОЙ ЯЧЕЙКЕ\n"
      ]
    },
    {
      "cell_type": "markdown",
      "metadata": {
        "id": "0zYZmH5QnABx"
      },
      "source": [
        "#### 19. Найдите среднеквадратичное отклонение значений в матрице mat"
      ]
    },
    {
      "cell_type": "code",
      "execution_count": 53,
      "metadata": {
        "collapsed": true,
        "id": "6wteuGBunABx"
      },
      "outputs": [
        {
          "data": {
            "text/plain": [
              "7.211102550927978"
            ]
          },
          "execution_count": 53,
          "metadata": {},
          "output_type": "execute_result"
        }
      ],
      "source": [
        "# Напишите Ваше решение в этой ячейке\n",
        "std_deviation = np.std(mat) #используем функцию np.std()\n",
        "\n",
        "std_deviation"
      ]
    },
    {
      "cell_type": "code",
      "execution_count": null,
      "metadata": {
        "id": "fLLvd_vTnABx",
        "outputId": "08e6ef3d-1e24-4b62-df57-49e6b55404c8"
      },
      "outputs": [
        {
          "data": {
            "text/plain": [
              "7.211102550927978"
            ]
          },
          "execution_count": 20,
          "metadata": {},
          "output_type": "execute_result"
        }
      ],
      "source": [
        "# НЕ ПИШИТЕ В ЭТОЙ ЯЧЕЙКЕ\n"
      ]
    },
    {
      "cell_type": "markdown",
      "metadata": {
        "id": "M3mFZUr-nABy"
      },
      "source": [
        "#### 20. Найдите сумму каждой из колонок в матрице mat"
      ]
    },
    {
      "cell_type": "code",
      "execution_count": 55,
      "metadata": {},
      "outputs": [
        {
          "data": {
            "text/plain": [
              "array([55, 60, 65, 70, 75])"
            ]
          },
          "execution_count": 55,
          "metadata": {},
          "output_type": "execute_result"
        }
      ],
      "source": [
        "# Напишите Ваше решение в этой ячейке\n",
        "column_sums = np.sum(mat, axis=0)\n",
        "\n",
        "column_sums"
      ]
    },
    {
      "cell_type": "code",
      "execution_count": 56,
      "metadata": {},
      "outputs": [
        {
          "data": {
            "text/plain": [
              "array([55, 60, 65, 70, 75])"
            ]
          },
          "execution_count": 56,
          "metadata": {},
          "output_type": "execute_result"
        }
      ],
      "source": [
        "# Напишите Ваше решение в этой ячейке\n",
        "# 2ой способ\n",
        "sum(mat) "
      ]
    },
    {
      "cell_type": "code",
      "execution_count": null,
      "metadata": {
        "id": "w05SuCJMnABy",
        "outputId": "c538bac5-2746-4181-b9fa-6355855d9979"
      },
      "outputs": [
        {
          "data": {
            "text/plain": [
              "array([55, 60, 65, 70, 75])"
            ]
          },
          "execution_count": 21,
          "metadata": {},
          "output_type": "execute_result"
        }
      ],
      "source": [
        "# НЕ ПИШИТЕ В ЭТОЙ ЯЧЕЙКЕ\n"
      ]
    },
    {
      "cell_type": "markdown",
      "metadata": {
        "id": "H0oRj7O8nABy"
      },
      "source": [
        "## Бонусный вопрос\n",
        "\n",
        "Мы много работали со случайными данными в numpy, но есть ли способ каждый раз получать одни и те же \"случайные\" результаты? [Для подсказки нажмите здесь](https://www.google.com/search?q=numpy+random+seed&rlz=1C1CHBF_enUS747US747&oq=numpy+random+seed&aqs=chrome..69i57j69i60j0l4.2087j0j7&sourceid=chrome&ie=UTF-8)"
      ]
    },
    {
      "cell_type": "code",
      "execution_count": 29,
      "metadata": {
        "collapsed": true,
        "id": "EGKPPIqUnABy"
      },
      "outputs": [
        {
          "data": {
            "text/plain": [
              "array([0.37454012, 0.95071431, 0.73199394, 0.59865848, 0.15601864])"
            ]
          },
          "execution_count": 29,
          "metadata": {},
          "output_type": "execute_result"
        }
      ],
      "source": [
        "# Напишите Ваше решение в этой ячейке\n",
        "np.random.seed(42)  # seed используется для генерации одинаковой последовательности случайных чисел\n",
        "\n",
        "random_array = np.random.rand(5)  #теперь получаем одни и те же случайные числа\n",
        "random_array "
      ]
    },
    {
      "cell_type": "markdown",
      "metadata": {
        "collapsed": true,
        "id": "MzCdDi3GnABy"
      },
      "source": [
        "# Отличная работа!"
      ]
    },
    {
      "cell_type": "markdown",
      "metadata": {},
      "source": [
        "## Спасибо, удачного дня!"
      ]
    },
    {
      "cell_type": "code",
      "execution_count": null,
      "metadata": {
        "id": "Y4F4VS-gnABy"
      },
      "outputs": [],
      "source": []
    }
  ],
  "metadata": {
    "anaconda-cloud": {},
    "colab": {
      "provenance": []
    },
    "kernelspec": {
      "display_name": "Python 3",
      "language": "python",
      "name": "python3"
    },
    "language_info": {
      "codemirror_mode": {
        "name": "ipython",
        "version": 3
      },
      "file_extension": ".py",
      "mimetype": "text/x-python",
      "name": "python",
      "nbconvert_exporter": "python",
      "pygments_lexer": "ipython3",
      "version": "3.10.10"
    }
  },
  "nbformat": 4,
  "nbformat_minor": 0
}
